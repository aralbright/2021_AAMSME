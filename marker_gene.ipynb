{
  "nbformat": 4,
  "nbformat_minor": 0,
  "metadata": {
    "kernelspec": {
      "display_name": "Python 3",
      "language": "python",
      "name": "python3"
    },
    "language_info": {
      "codemirror_mode": {
        "name": "ipython",
        "version": 3
      },
      "file_extension": ".py",
      "mimetype": "text/x-python",
      "name": "python",
      "nbconvert_exporter": "python",
      "pygments_lexer": "ipython3",
      "version": "3.7.8"
    },
    "colab": {
      "name": "marker_gene.ipynb",
      "provenance": [],
      "include_colab_link": true
    }
  },
  "cells": [
    {
      "cell_type": "markdown",
      "metadata": {
        "id": "view-in-github",
        "colab_type": "text"
      },
      "source": [
        "<a href=\"https://colab.research.google.com/github/aralbright/2021_AAMSME/blob/main/marker_gene.ipynb\" target=\"_parent\"><img src=\"https://colab.research.google.com/assets/colab-badge.svg\" alt=\"Open In Colab\"/></a>"
      ]
    },
    {
      "cell_type": "markdown",
      "metadata": {
        "id": "QyJ114A28aDc"
      },
      "source": [
        "# Marker Gene Analysis\n",
        "\n",
        "\n",
        "Input: kallisto-bustools with multimapping, data subset to 6000 highly variable genes before scvi for batch correction"
      ]
    },
    {
      "cell_type": "markdown",
      "metadata": {
        "id": "iwl0rRGJ8miu"
      },
      "source": [
        "### Download and import packages"
      ]
    },
    {
      "cell_type": "code",
      "metadata": {
        "id": "N5mb-vte8kvo"
      },
      "source": [
        "!pip install anndata\n",
        "!pip install scanpy"
      ],
      "execution_count": null,
      "outputs": []
    },
    {
      "cell_type": "code",
      "metadata": {
        "id": "9JTqLsac8aDf"
      },
      "source": [
        "# Setup\n",
        "\n",
        "import anndata\n",
        "from anndata import AnnData\n",
        "import pandas as pd\n",
        "import numpy as np\n",
        "import matplotlib.pyplot as plt\n",
        "import matplotlib as mpl\n",
        "import scanpy as sc\n",
        "\n",
        "# matplotlib settings\n",
        "# plt.rcParams.keys() for options\n",
        "\n",
        "fsize=20\n",
        "plt.rcParams.update({'font.size': fsize})\n",
        "%config InlineBackend.figure_format = 'retina'\n",
        "\n",
        "# scanpy settings\n",
        "\n",
        "sc.set_figure_params(dpi_save = 400, fontsize = 20)"
      ],
      "execution_count": null,
      "outputs": []
    },
    {
      "cell_type": "markdown",
      "metadata": {
        "id": "qqjDXUPU8aDg"
      },
      "source": [
        "## Load adata"
      ]
    },
    {
      "cell_type": "code",
      "metadata": {
        "id": "7kRevq2G8u6I"
      },
      "source": [
        ""
      ],
      "execution_count": null,
      "outputs": []
    },
    {
      "cell_type": "code",
      "metadata": {
        "id": "b_bxXjSo8aDg"
      },
      "source": [
        "# Load AnnData\n",
        "\n",
        "adata = anndata.read_h5ad(\" \")"
      ],
      "execution_count": null,
      "outputs": []
    },
    {
      "cell_type": "code",
      "metadata": {
        "id": "xYqMPulR8aDg"
      },
      "source": [
        "adata"
      ],
      "execution_count": null,
      "outputs": []
    },
    {
      "cell_type": "code",
      "metadata": {
        "id": "aIK8zkJB8aDh"
      },
      "source": [
        "# remove mitochondrial and ribosomal genes\n",
        "riboS = adata.var[\"gene\"].str.startswith('RpS')\n",
        "riboS = riboS.astype(bool)\n",
        "\n",
        "riboL = adata.var[\"gene\"].str.startswith('RpL')\n",
        "riboL = riboL.astype(bool)\n",
        "\n",
        "mriboS = adata.var[\"gene\"].str.startswith('mRpS')\n",
        "mriboS = mriboS.astype(bool)\n",
        "\n",
        "mriboL = adata.var[\"gene\"].str.startswith('mRpL')\n",
        "mriboL = mriboL.astype(bool)\n",
        "\n",
        "mito_genes = adata.var[\"gene\"].str.startswith('mt:')\n",
        "mito_genes = mito_genes.astype(bool)\n",
        "\n",
        "badgenes = (riboS | riboL | mito_genes | riboS | riboL)\n",
        "\n",
        "adata = adata[:, ~badgenes]"
      ],
      "execution_count": null,
      "outputs": []
    },
    {
      "cell_type": "code",
      "metadata": {
        "id": "ntDMAGHe8aDi"
      },
      "source": [
        "adata"
      ],
      "execution_count": null,
      "outputs": []
    },
    {
      "cell_type": "markdown",
      "metadata": {
        "id": "7JvLJM3D8aDi"
      },
      "source": [
        "## Marker Gene Analysis"
      ]
    },
    {
      "cell_type": "code",
      "metadata": {
        "id": "OzR3ZZdz8aDj"
      },
      "source": [
        "# rank genes for characterizing groups, expects log data\n",
        "sc.tl.rank_genes_groups(adata, 'leiden_scVI', method='wilcoxon', corr_method=\"bonferroni\", use_raw = False, layer = \"norm_log_unscaled\")\n",
        "sc.pl.rank_genes_groups(adata, n_genes=25, sharey=False)"
      ],
      "execution_count": null,
      "outputs": []
    },
    {
      "cell_type": "code",
      "metadata": {
        "id": "zEAiRNLz8aDj"
      },
      "source": [
        "# save top 10 per cluster to csv file\n",
        "pd.DataFrame(adata.uns['rank_genes_groups']['names']).head(10).to_csv('top10markers.csv', index = False, sep = '\\t')"
      ],
      "execution_count": null,
      "outputs": []
    },
    {
      "cell_type": "code",
      "metadata": {
        "id": "fImED0L78aDk"
      },
      "source": [
        "# hierarchical clustering of clusby leiden\n",
        "sc.tl.dendrogram(adata, groupby = \"leiden_scVI\")"
      ],
      "execution_count": null,
      "outputs": []
    },
    {
      "cell_type": "code",
      "metadata": {
        "id": "RGSULZkr8aDk"
      },
      "source": [
        "sc.pl.rank_genes_groups_heatmap(adata, \n",
        "                                n_genes=4, \n",
        "                                use_raw=False, \n",
        "                                swap_axes=True, \n",
        "                                vmin=-3, vmax=3, \n",
        "                                cmap='RdBu_r', \n",
        "                                figsize=(10,15),\n",
        "                                save = 'markergeneheatmap.png')"
      ],
      "execution_count": null,
      "outputs": []
    }
  ]
}